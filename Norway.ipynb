{
 "cells": [
  {
   "cell_type": "code",
   "execution_count": 1,
   "id": "b4cff207-7c13-4d08-8372-b22f8d198eaf",
   "metadata": {},
   "outputs": [],
   "source": [
    "#Importamos librerias\n",
    "import requests\n",
    "import pandas as pd\n",
    "import numpy as np\n",
    "\n",
    "#Importamos la variable OWM_key que esta dentro del archivo keys\n",
    "from keys import *\n",
    "\n",
    "city = \"Kingdom of Norway\"\n",
    "country = \"NO\"\n",
    "\n",
    "#Hacemos una petición a la API del clima con la ciudad y clave \n",
    "response = requests.get(f'http://api.openweathermap.org/data/2.5/forecast/?q={city},{country}&appid={OWM_key}&units=metric&lang=en')\n"
   ]
  },
  {
   "cell_type": "code",
   "execution_count": 2,
   "id": "7c926819-bc09-4736-9f72-b493c0c4988a",
   "metadata": {},
   "outputs": [
    {
     "name": "stdout",
     "output_type": "stream",
     "text": [
      "                  time  temperature  humidity weather_status  wind_speed  \\\n",
      "0  2025-09-27 06:00:00         4.24        72          Clear        3.75   \n",
      "1  2025-09-27 09:00:00         6.08        65          Clear        4.33   \n",
      "2  2025-09-27 12:00:00         9.43        56         Clouds        4.81   \n",
      "3  2025-09-27 15:00:00        11.84        57         Clouds        4.14   \n",
      "4  2025-09-27 18:00:00         6.27        82         Clouds        4.64   \n",
      "\n",
      "   rain_volume_3h  snow_volume_3h  \n",
      "0             NaN             NaN  \n",
      "1             NaN             NaN  \n",
      "2             NaN             NaN  \n",
      "3             NaN             NaN  \n",
      "4             NaN             NaN  \n"
     ]
    }
   ],
   "source": [
    "#Se transforman los datos que la API manda \n",
    "data = response.json()\n",
    "\n",
    "\n",
    "#Saca la lista de pronosticos del diccionaario data\n",
    "forecast_list = data.get('list', [])\n",
    "\n",
    "#Se crean las listas vacias para poder guardar los datos que se extraeran\n",
    "times = []\n",
    "temperatures = []\n",
    "humidities = []\n",
    "weather_statuses = []\n",
    "wind_speeds = []\n",
    "rain_volumes = []\n",
    "snow_volumes = []\n",
    "\n",
    "#Empieza un ciclo que revisa la lista de pronosticos\n",
    "for entry in forecast_list:\n",
    "    times.append(entry.get('dt_txt', np.nan)) #Fecha y hora\n",
    "    temperatures.append(entry.get('main', {}).get('temp', np.nan)) #Temperatura\n",
    "    humidities.append(entry.get('main', {}).get('humidity', np.nan)) #Humedad\n",
    "    weather_statuses.append(entry.get('weather', [{}])[0].get('main', np.nan)) #Estado del clima\n",
    "    wind_speeds.append(entry.get('wind', {}).get('speed', np.nan)) #Velocidad del viento\n",
    "    rain_volumes.append(entry.get('rain', {}).get('3h', np.nan)) #Volumen de lluvia en 3 horas\n",
    "    snow_volumes.append(entry.get('snow', {}).get('3h', np.nan)) # Volumen de nieve en 3 horas\n",
    "\n",
    "#Crea una tabla con todos los datos que juntamos\n",
    "df = pd.DataFrame({\n",
    "    'time': times,\n",
    "    'temperature': temperatures,\n",
    "    'humidity': humidities,\n",
    "    'weather_status': weather_statuses,\n",
    "    'wind_speed': wind_speeds,\n",
    "    'rain_volume_3h': rain_volumes,\n",
    "    'snow_volume_3h': snow_volumes\n",
    "})\n",
    "\n",
    "#Imprime las primeras 5 filas\n",
    "print(df.head())"
   ]
  }
 ],
 "metadata": {
  "kernelspec": {
   "display_name": "base",
   "language": "python",
   "name": "python3"
  },
  "language_info": {
   "codemirror_mode": {
    "name": "ipython",
    "version": 3
   },
   "file_extension": ".py",
   "mimetype": "text/x-python",
   "name": "python",
   "nbconvert_exporter": "python",
   "pygments_lexer": "ipython3",
   "version": "3.12.7"
  }
 },
 "nbformat": 4,
 "nbformat_minor": 5
}
